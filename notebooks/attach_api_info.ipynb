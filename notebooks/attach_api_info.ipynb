{
 "cells": [
  {
   "cell_type": "code",
   "execution_count": 1,
   "metadata": {},
   "outputs": [],
   "source": [
    "import numpy as np\n",
    "import pandas as pd \n",
    "import matplotlib.pyplot as plt\n",
    "import seaborn as sns\n",
    "from tqdm.notebook import tqdm\n",
    "import re\n",
    "from functools import partial\n",
    "from time import sleep\n",
    "from datetime import datetime\n",
    "\n",
    "import sys\n",
    "import os\n",
    "sys.path.append(os.path.abspath(\"..\"))\n",
    "from opt_emergency.api import NaverMap, PublicDataPortal, NearestEr"
   ]
  },
  {
   "cell_type": "markdown",
   "metadata": {},
   "source": [
    "## nearest_er_xx"
   ]
  },
  {
   "cell_type": "code",
   "execution_count": null,
   "metadata": {},
   "outputs": [],
   "source": [
    "comm_pop_df = pd.read_csv(\"../data/processed/community_population_df.csv\")\n",
    "emergency_df = pd.read_csv(\"../data/processed/emergency_df.csv\")\n",
    "\n",
    "tk = [\"대구\", \"경북\"]\n",
    "comm_pop_tk = comm_pop_df[comm_pop_df[\"시도\"].isin(tk)]\n",
    "emergency_tk = emergency_df[emergency_df[\"시도\"].isin(tk)]"
   ]
  },
  {
   "cell_type": "code",
   "execution_count": null,
   "metadata": {},
   "outputs": [],
   "source": [
    "nearest_er_all = NearestEr(er_df=emergency_tk)\n",
    "nearest_er_gyjyct = NearestEr(er_df=emergency_tk[emergency_tk[\"의료기관분류\"].str.contains(\"센터\")])\n",
    "\n",
    "nearest_hpid_list = list()\n",
    "for row in tqdm(comm_pop_tk.itertuples(), total=comm_pop_tk.shape[0]):\n",
    "    lon = getattr(row, \"경도\")\n",
    "    lat = getattr(row, \"위도\")\n",
    "    nearest_info_all = nearest_er_all.get_nearest_er_order_info(lon, lat, N=3)\n",
    "    nearest_info_gyjyct = nearest_er_gyjyct.get_nearest_er_info(lon, lat)\n",
    "    nearest_hpid_list.append({\n",
    "        \"nearest_er_hpid_1st\": nearest_info_all.loc[0, \"hpid\"], \n",
    "        \"nearest_er_travel_time_1st\": nearest_info_all.loc[0, \"소요시간\"],\n",
    "        \"nearest_er_hpid_2nd\": nearest_info_all.loc[1, \"hpid\"], \n",
    "        \"nearest_er_travel_time_2nd\": nearest_info_all.loc[1, \"소요시간\"],\n",
    "        \"nearest_er_hpid_3rd\": nearest_info_all.loc[2, \"hpid\"], \n",
    "        \"nearest_er_travel_time_3rd\": nearest_info_all.loc[2, \"소요시간\"],\n",
    "        \"nearest_er_hpid_center\": nearest_info_gyjyct[\"hpid\"], \n",
    "        \"nearest_er_travel_time_center\": nearest_info_gyjyct[\"소요시간\"], \n",
    "        \"측정시각\": nearest_info_all.loc[0, \"측정시각\"]\n",
    "    })\n",
    "nearest_info_df = pd.DataFrame(nearest_hpid_list)"
   ]
  },
  {
   "cell_type": "code",
   "execution_count": null,
   "metadata": {},
   "outputs": [],
   "source": [
    "comm_pop_tk.reset_index(drop=True, inplace=True)\n",
    "comm_pop_tk2 = pd.concat([comm_pop_tk, nearest_info_df], axis=1)\n",
    "comm_pop_tk2.to_csv(\"../data/processed/nearest_er_tk_daytime.csv\", index=False)"
   ]
  },
  {
   "cell_type": "code",
   "execution_count": null,
   "metadata": {},
   "outputs": [],
   "source": [
    "comm_pop_tk2 = pd.read_csv(\"../data/processed/nearest_er_tk.csv\")\n",
    "comm_pop_tk2.head(1)"
   ]
  },
  {
   "cell_type": "markdown",
   "metadata": {},
   "source": [
    "## travel_time_between_er_xx"
   ]
  },
  {
   "cell_type": "code",
   "execution_count": 2,
   "metadata": {},
   "outputs": [],
   "source": [
    "emergency_df = pd.read_csv(\"../data/processed/emergency_df.csv\")\n",
    "emergency_df_tk = emergency_df[emergency_df[\"시도\"].isin([\"대구\", \"경북\"])]"
   ]
  },
  {
   "cell_type": "code",
   "execution_count": 3,
   "metadata": {},
   "outputs": [
    {
     "data": {
      "application/vnd.jupyter.widget-view+json": {
       "model_id": "fa928bb2ad9148129e9db8d5fdb32219",
       "version_major": 2,
       "version_minor": 0
      },
      "text/plain": [
       "  0%|          | 0/56 [00:00<?, ?it/s]"
      ]
     },
     "metadata": {},
     "output_type": "display_data"
    }
   ],
   "source": [
    "nm = NaverMap()\n",
    "hpids = sorted(emergency_df_tk.hpid.tolist())\n",
    "travel_times = []\n",
    "for hpid1 in tqdm(hpids):\n",
    "    for hpid2 in [x for x in hpids if x != hpid1]:\n",
    "        pos_start = emergency_df_tk.loc[emergency_df_tk.hpid == hpid1, [\"경도\", \"위도\"]].values[0]\n",
    "        pos_goal = emergency_df_tk.loc[emergency_df_tk.hpid == hpid2, [\"경도\", \"위도\"]].values[0]\n",
    "        tt = nm.get_travel_time(pos_start, pos_goal)\n",
    "        travel_times.append([hpid1, hpid2, tt])"
   ]
  },
  {
   "cell_type": "code",
   "execution_count": 4,
   "metadata": {},
   "outputs": [],
   "source": [
    "df = pd.DataFrame(travel_times, columns=[\"hpid1\", \"hpid2\", \"travel_time\"])\n",
    "df[\"측정시각\"] = datetime.now().strftime(\"%y%m%d_%H%M%S\")\n",
    "df.to_csv(\"../data/processed/travel_time_between_er_tk_daytime.csv\", index=False)"
   ]
  },
  {
   "cell_type": "code",
   "execution_count": null,
   "metadata": {},
   "outputs": [],
   "source": []
  }
 ],
 "metadata": {
  "kernelspec": {
   "display_name": "venv",
   "language": "python",
   "name": "python3"
  },
  "language_info": {
   "codemirror_mode": {
    "name": "ipython",
    "version": 3
   },
   "file_extension": ".py",
   "mimetype": "text/x-python",
   "name": "python",
   "nbconvert_exporter": "python",
   "pygments_lexer": "ipython3",
   "version": "3.10.12"
  }
 },
 "nbformat": 4,
 "nbformat_minor": 2
}
