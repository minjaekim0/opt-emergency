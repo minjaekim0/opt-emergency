{
 "cells": [
  {
   "cell_type": "code",
   "execution_count": 1,
   "metadata": {},
   "outputs": [],
   "source": [
    "import numpy as np\n",
    "import pandas as pd \n",
    "import matplotlib.pyplot as plt\n",
    "import seaborn as sns\n",
    "from tqdm.notebook import tqdm\n",
    "import re\n",
    "from functools import partial\n",
    "from time import sleep\n",
    "from datetime import datetime\n",
    "\n",
    "import sys\n",
    "import os\n",
    "sys.path.append(os.path.abspath(\"..\"))\n",
    "from opt_emergency.api import NaverMap, PublicDataPortal, NearestEr"
   ]
  },
  {
   "cell_type": "markdown",
   "metadata": {},
   "source": [
    "## community_center_df"
   ]
  },
  {
   "cell_type": "code",
   "execution_count": null,
   "metadata": {},
   "outputs": [],
   "source": [
    "community_center_df = pd.read_csv(\"../data/raw/행정안전부_읍면동 하부행정기관 현황_20240731.csv\", encoding=\"cp949\")\n",
    "community_center_df.drop(\"연번\", axis=1, inplace=True)\n",
    "community_center_df.rename({\"주    소\": \"주소\"}, axis=1, inplace=True)\n",
    "\n",
    "community_center_df.loc[community_center_df[community_center_df[\"시도\"] == \"세종\"].index, \"시군구\"] = \"세종특별자치시\"\n",
    "\n",
    "def fix_spacing(name: str) -> str:\n",
    "    pattern = r\".+시+.+구\"\n",
    "    if \" \" in name and (not bool(re.match(pattern, name))):\n",
    "        return name.replace(\" \", \"\")\n",
    "    else:\n",
    "        return name\n",
    "for col in [\"시도\", \"시군구\", \"읍면동\"]:\n",
    "    community_center_df[col] = community_center_df[col].map(fix_spacing)\n",
    "\n",
    "# 오타 교정\n",
    "typo_idx = community_center_df[community_center_df[\"읍면동\"].map(lambda x: x[-4:]) == \"주민센토\"].index\n",
    "community_center_df.loc[typo_idx, \"읍면동\"] = community_center_df.loc[typo_idx, \"읍면동\"].str.replace(\"주민센토\", \"주민센터\")\n",
    "\n",
    "# 임시청사 글자 제외 및 중간점 -> 온점 변경\n",
    "community_center_df[\"읍면동\"] = community_center_df[\"읍면동\"].map(lambda x: x.replace(\"ㆍ\", \".\").replace(\"(임시청사)\", \"\"))\n",
    "\n",
    "community_center_df[\"센터명\"] = community_center_df[\"읍면동\"]\n",
    "center_name = [\"행정복지센터\", \"행정주민센터\", \"주민센터\", \"사무소\"]\n",
    "community_center_df[\"읍면동\"] = community_center_df[\"읍면동\"].map(lambda x: re.sub(\"|\".join(center_name), \"\", x))\n",
    "\n",
    "# 남양주시 이름 처리\n",
    "rename_dict = {\n",
    "    \"와부조안\": \"와부읍\",\n",
    "    \"진접오남\": \"진접읍\",\n",
    "    \"화도수동\": \"화도읍\",\n",
    "    \"진건퇴계원\": \"진건읍\",\n",
    "    \"호평평내\": \"호평동\",\n",
    "    \"금곡양정\": \"금곡동\",\n",
    "    \"다산\": \"다산1동\",\n",
    "    \"별내\": \"별내동\",\n",
    "}\n",
    "community_center_df.replace(rename_dict, inplace=True)\n",
    "\n",
    "# 군위 중복 제거\n",
    "community_center_df = community_center_df[\n",
    "    ~((community_center_df[\"시도\"] == \"경북\") & (community_center_df[\"시군구\"] == \"군위군\"))\n",
    "]\n",
    "\n",
    "# 오타 수정 및 업데이트\n",
    "typo_mapping = {\n",
    "    \"곤지암\": \"곤지암읍\",\n",
    "    \"호령면\": \"효령면\",\n",
    "    \"벡아면\": \"백아면\",\n",
    "    \"반원중앙동\": \"반월중앙동\",\n",
    "    \"금수면\": \"금수강산면\",\n",
    "    \"봉명제2.송정동\": \"봉명2.송정동\",\n",
    "    \"성내충인동\": \"성내.충인동\",\n",
    "    \"호암직동\": \"호암.직동\",\n",
    "    \"칠금금릉동\": \"칠금.금릉동\",\n",
    "    \"목행용탄동\": \"목행.용탄동\",\n",
    "}\n",
    "for key, val in typo_mapping.items():\n",
    "    community_center_df.loc[community_center_df[\"읍면동\"] == key, \"읍면동\"] = val\n",
    "\n",
    "# 창원 용지동 구 오류 수정\n",
    "community_center_df.loc[community_center_df[\"읍면동\"] == \"용지동\", \"시군구\"] = \"창원시 성산구\"\n",
    "\n",
    "# 안양시, 전주시 구 포함\n",
    "def include_gu(row):\n",
    "    if row[\"시군구\"] in [\"안양시\", \"전주시\"]:\n",
    "        gu = row[\"주소\"].split(\" \")[2]\n",
    "        return row[\"시군구\"] + \" \" + gu\n",
    "    else:\n",
    "        return row[\"시군구\"]\n",
    "\n",
    "community_center_df[\"시군구\"] = community_center_df.apply(include_gu, axis=1)\n",
    "\n",
    "# 동 이름 포맷 맞추기\n",
    "def fix_dong_name(name: str) -> str:\n",
    "    name = name.replace(\"·\", \".\")\n",
    "\n",
    "    if bool(re.match(r\"^.*제\\d+(\\.\\d+)?동$\", name)):\n",
    "        name = name.replace(\"제\", \"\")\n",
    "\n",
    "    search_num = re.search(r\"\\d{2,}\", name)\n",
    "    if bool(search_num) and int(search_num.group()) >= 10:\n",
    "        name = re.sub(r'(\\d)(?=\\d)', r'\\1.', name)\n",
    "\n",
    "    return name\n",
    "community_center_df[\"읍면동\"] = community_center_df[\"읍면동\"].map(fix_dong_name)\n",
    "\n",
    "# 의정부3동, 양주 회천4동 없어짐 반영\n",
    "community_center_df = community_center_df[~community_center_df[\"읍면동\"].isin( [\"의정부3동\", \"회천4동\"])]\n",
    "\n",
    "# 누락된 주민센터 추가\n",
    "center_add = [\n",
    "    [\"경기\", \"과천시\", \"중앙동\", \"13803\", \"경기 과천시 관문로 136\", \"중앙동행정복지센터\"],\n",
    "    [\"경기\", \"파주시\", \"장단면\", \"10800\", \"경기 파주시 군내면 통일촌길 220\", \"장단면행정복지센터\"],\n",
    "    [\"경기\", \"파주시\", \"운정4동\", \"10909\", \"경기 파주시 하우3길 77\", \"운정4동행정복지센터\"],\n",
    "    [\"경기\", \"파주시\", \"운정5동\", \"10884\", \"경기 파주시 책향기로 283 1층\", \"운정5동행정복지센터\"],\n",
    "    [\"경기\", \"파주시\", \"운정6동\", \"10956\", \"경기 파주시 청석로 115 5층\", \"운정6동행정복지센터\"],\n",
    "    [\"경기\", \"화성시\", \"동탄9동\", \"18492\", \"화성시 동탄신리천로9길 76\", \"동탄9동행정복지센터\"],\n",
    "    [\"경기\", \"양주시\", \"옥정1동\", \"11465\", \"경기 양주시 옥정로 397-7\", \"옥정1동행정복지센터\"],\n",
    "    [\"경기\", \"양주시\", \"옥정2동\", \"11473\", \"경기 양주시 옥정동로7가길 4\", \"옥정2동행정복지센터\"]\n",
    "]\n",
    "center_add_df = pd.DataFrame(center_add, columns=community_center_df.columns)\n",
    "community_center_df = pd.concat([community_center_df, center_add_df])\n",
    "\n",
    "community_center_df.sort_values([\"시도\", \"시군구\", \"읍면동\"], inplace=True)\n",
    "community_center_df.reset_index(drop=True, inplace=True)"
   ]
  },
  {
   "cell_type": "code",
   "execution_count": null,
   "metadata": {},
   "outputs": [],
   "source": [
    "nm = NaverMap()\n",
    "\n",
    "lon_list = list()\n",
    "lat_list = list()\n",
    "\n",
    "for i in tqdm(range(community_center_df.shape[0])):\n",
    "    lon, lat = nm.get_lon_lat(community_center_df[\"주소\"].iloc[i])\n",
    "    lon_list.append(lon)\n",
    "    lat_list.append(lat)\n",
    "\n",
    "community_center_df[\"경도\"] = lon_list\n",
    "community_center_df[\"위도\"] = lat_list"
   ]
  },
  {
   "cell_type": "code",
   "execution_count": null,
   "metadata": {},
   "outputs": [],
   "source": [
    "nm = NaverMap()\n",
    "\n",
    "for row in community_center_df[community_center_df[\"경도\"].isna()].itertuples():\n",
    "    name = getattr(row, \"시군구\") + \" \" + getattr(row, \"센터명\")\n",
    "    new_address = nm.get_address(name=name)\n",
    "    community_center_df.loc[row.Index, \"주소\"] = new_address\n",
    "    \n",
    "    if new_address:\n",
    "        lon, lat = nm.get_lon_lat(new_address)\n",
    "        community_center_df.loc[row.Index, \"경도\"] = lon\n",
    "        community_center_df.loc[row.Index, \"위도\"] = lat\n",
    "\n",
    "# 수작업\n",
    "community_center_df.loc[community_center_df[\"읍면동\"] == \"상리면\"] = \\\n",
    "    [\"경남\", \"고성군\", \"상리면\", \"52951\", \"경남 고성군 척번정1길 105\", \"상리면사무소\", 128.1864013, 34.9997999]\n",
    "community_center_df.loc[(community_center_df[\"시군구\"] == \"경산시\") & (community_center_df[\"읍면동\"] == \"남부동\")] = \\\n",
    "    [\"경북\", \"경산시\", \"남부동\", \"38645\", \"경북 경산시 경안로 68 (신교동)\", \"남부동행정복지센터\", 128.7391133, 35.8137117]\n",
    "\n",
    "community_center_df.to_csv(\"../data/processed/community_center_df.csv\", encoding=\"UTF-8\", index=False)"
   ]
  },
  {
   "cell_type": "code",
   "execution_count": null,
   "metadata": {},
   "outputs": [],
   "source": [
    "community_center_df = pd.read_csv(\"../data/processed/community_center_df.csv\", encoding=\"UTF-8\")\n",
    "community_center_df"
   ]
  },
  {
   "cell_type": "markdown",
   "metadata": {},
   "source": [
    "## population_df"
   ]
  },
  {
   "cell_type": "code",
   "execution_count": 5,
   "metadata": {},
   "outputs": [],
   "source": [
    "population_df = pd.read_csv(\"../data/raw/202409_202409_연령별인구현황_월간.csv\", encoding=\"cp949\")\n",
    "population_df.drop(population_df.columns[2:], axis=1, inplace=True)\n",
    "population_df = population_df[population_df[\"행정구역\"].map(lambda x: int(x[-11:-1])) % 100000 != 0]\n",
    "population_df.rename({\"2024년09월_계_총인구수\": \"인구수\"}, axis=1, inplace=True)\n",
    "population_df[\"인구수\"] = population_df[\"인구수\"].map(lambda x: int(x.replace(\",\", \"\")))\n",
    "\n",
    "def district_info_seperate(info: str, typ: str) -> str:\n",
    "    name, code = info[:-12], info[-11:-1]\n",
    "    if name.count(\" \") == 2:\n",
    "        sido, sigungu, eupmyeongdong = name.split(\" \")\n",
    "    elif name.count(\" \") == 3:\n",
    "        sido, si, gungu, eupmyeongdong = name.split(\" \")\n",
    "        sigungu = si + \" \" + gungu\n",
    "    else:\n",
    "        raise ValueError\n",
    "\n",
    "    assert typ in [\"sido\", \"sigungu\", \"eupmyeondong\", \"code\"]\n",
    "    if typ == \"sido\":\n",
    "        return sido\n",
    "    elif typ == \"sigungu\":\n",
    "        return sigungu\n",
    "    elif typ == \"eupmyeondong\":\n",
    "        return eupmyeongdong\n",
    "    else:\n",
    "        return code\n",
    "\n",
    "population_df[\"시도\"] = population_df[\"행정구역\"].map(lambda x: partial(district_info_seperate, typ=\"sido\")(x))\n",
    "population_df[\"시군구\"] = population_df[\"행정구역\"].map(lambda x: partial(district_info_seperate, typ=\"sigungu\")(x))\n",
    "population_df[\"읍면동\"] = population_df[\"행정구역\"].map(lambda x: partial(district_info_seperate, typ=\"eupmyeondong\")(x))\n",
    "population_df[\"행정구역코드\"] = population_df[\"행정구역\"].map(lambda x: partial(district_info_seperate, typ=\"code\")(x))\n",
    "\n",
    "population_df.drop(\"행정구역\", axis=1, inplace=True)\n",
    "population_df = population_df[population_df.columns.tolist()[1:] + [\"인구수\"]]\n",
    "\n",
    "def sigungu_name_abbr(name: str) -> str:\n",
    "    if name[:2] in [\"충청\", \"전라\", \"경상\"]:\n",
    "        return name[0] + name[2]\n",
    "    else:\n",
    "        return name[:2]\n",
    "population_df[\"시도\"] = population_df[\"시도\"].map(sigungu_name_abbr)\n",
    "\n",
    "population_df.loc[population_df[population_df[\"시도\"] == \"세종\"].index, \"시군구\"] = \"세종특별자치시\"\n",
    "\n",
    "# 출장소에서 \"출장소\"를 제거한 읍면동 이름과 매칭하여 인구수를 더함\n",
    "population_df_chuljangso = population_df[population_df[\"읍면동\"].str.contains(\"출장소\")]\n",
    "population_df_not_chuljangso = population_df[~population_df[\"읍면동\"].str.contains(\"출장소\")]\n",
    "\n",
    "for row in population_df_chuljangso.itertuples():\n",
    "    sigungu = getattr(row, \"시군구\")\n",
    "    name = getattr(row, \"읍면동\")[:2]\n",
    "\n",
    "    for row2 in population_df_not_chuljangso.itertuples():\n",
    "        sigungu2 = getattr(row2, \"시군구\")\n",
    "        name2 = getattr(row2, \"읍면동\")[:2]\n",
    "\n",
    "        if sigungu2 == sigungu and name2 == name:\n",
    "            population_df_not_chuljangso.loc[row2.Index, \"인구수\"] += getattr(row, \"인구수\")\n",
    "                \n",
    "population_df = population_df_not_chuljangso.reset_index(drop=True)\n",
    "\n",
    "population_df[\"읍면동\"] = population_df[\"읍면동\"].map(fix_dong_name)\n",
    "\n",
    "# 철원 근북면 -> 김화읍으로 통합\n",
    "geunbuk_pop = population_df.loc[population_df[\"읍면동\"] == \"근북면\", \"인구수\"].iloc[0]\n",
    "population_df.loc[population_df[\"읍면동\"] == \"김화읍\", \"인구수\"] += geunbuk_pop\n",
    "population_df = population_df[population_df[\"읍면동\"] != \"근북면\"]\n",
    "\n",
    "population_df.reset_index(drop=True, inplace=True)\n",
    "\n",
    "population_df.to_csv(\"../data/processed/population_df.csv\", encoding=\"UTF-8\", index=False)"
   ]
  },
  {
   "cell_type": "code",
   "execution_count": null,
   "metadata": {},
   "outputs": [],
   "source": [
    "population_df = pd.read_csv(\"../data/processed/population_df.csv\", encoding=\"UTF-8\")\n",
    "population_df"
   ]
  },
  {
   "cell_type": "markdown",
   "metadata": {},
   "source": [
    "## community_population_df"
   ]
  },
  {
   "cell_type": "code",
   "execution_count": null,
   "metadata": {},
   "outputs": [],
   "source": [
    "joined = pd.merge(community_center_df, population_df, on=[\"시도\", \"시군구\", \"읍면동\"], how=\"left\")\n",
    "joined.to_csv(\"../data/processed/community_population_df.csv\", index=False)"
   ]
  },
  {
   "cell_type": "code",
   "execution_count": null,
   "metadata": {},
   "outputs": [],
   "source": [
    "comm_pop_df = pd.read_csv(\"../data/processed/community_population_df.csv\")\n",
    "comm_pop_df"
   ]
  },
  {
   "cell_type": "markdown",
   "metadata": {},
   "source": [
    "## emergency_df"
   ]
  },
  {
   "cell_type": "code",
   "execution_count": 2,
   "metadata": {},
   "outputs": [],
   "source": [
    "emergency_info1 = pd.read_excel(\"../data/raw/1. 응급의료기관 현황('24.09.30.)_e-gen.xlsx\")\n",
    "emergency_info1.drop(\"번호\", axis=1, inplace=True)\n",
    "\n",
    "emergency_info2 = pd.read_excel(\"../data/raw/2. 응급의료기관 외의 의료기관(응급의료시설)('24.09.30.)_e-gen.xlsx\", header=5)\n",
    "emergency_info2.drop(\"번호\", axis=1, inplace=True)\n",
    "\n",
    "emergency_df = pd.concat([emergency_info1, emergency_info2])\n",
    "emergency_df.rename({\"지역\": \"시도\"}, axis=1, inplace=True)\n",
    "\n",
    "for col in [\"시군구\", \"기관명\"]:\n",
    "    emergency_df[col] = emergency_df[col].map(lambda x: x.replace(\" \", \"\"))"
   ]
  },
  {
   "cell_type": "code",
   "execution_count": null,
   "metadata": {},
   "outputs": [],
   "source": [
    "er_api_list = list()\n",
    "districts = emergency_df[[\"시도\", \"시군구\"]].drop_duplicates().sort_values([\"시도\", \"시군구\"]).reset_index(drop=True)\n",
    "pdp = PublicDataPortal()\n",
    "\n",
    "for row in tqdm(districts.itertuples(), total=districts.shape[0]):\n",
    "    sido = getattr(row, \"시도\")\n",
    "    sigungu = getattr(row, \"시군구\")\n",
    "\n",
    "    er = pdp.get_er_list_at_region(sido, sigungu)\n",
    "    er_df = pd.DataFrame(er)\n",
    "    er_df[\"시도\"] = sido\n",
    "    er_df[\"시군구\"] = sigungu\n",
    "    er_api_list.append(er_df)\n",
    "    sleep(0.1)\n",
    "\n",
    "emergency_from_api = pd.concat(er_api_list).reset_index(drop=True)\n",
    "emergency_from_api[\"dutyName\"] = emergency_from_api[\"dutyName\"].map(lambda x: x.replace(\" \", \"\"))\n",
    "emergency_from_api"
   ]
  },
  {
   "cell_type": "code",
   "execution_count": 5,
   "metadata": {},
   "outputs": [],
   "source": [
    "emergency_df_joined = pd.merge(\n",
    "    left=emergency_df, right=emergency_from_api, \n",
    "    left_on=[\"시도\", \"시군구\", \"기관명\"], right_on=[\"시도\", \"시군구\", \"dutyName\"], how=\"left\"\n",
    ")"
   ]
  },
  {
   "cell_type": "code",
   "execution_count": null,
   "metadata": {},
   "outputs": [],
   "source": [
    "pdp = PublicDataPortal()\n",
    "er_additional_info_list = list()\n",
    "\n",
    "for hpid in tqdm(emergency_df_joined[\"hpid\"]):\n",
    "    er_info = pdp.get_er_info(er_hpid=hpid)\n",
    "    er_additional_info_list.append(pd.DataFrame([er_info]))\n",
    "    sleep(0.1)\n",
    "    break"
   ]
  },
  {
   "cell_type": "code",
   "execution_count": null,
   "metadata": {},
   "outputs": [],
   "source": [
    "pdp = PublicDataPortal()\n",
    "er_additional_info_list = list()\n",
    "\n",
    "for hpid in tqdm(emergency_df_joined[\"hpid\"]):\n",
    "    er_info = pdp.get_er_info(er_hpid=hpid)\n",
    "    er_additional_info_list.append(pd.DataFrame([er_info]))\n",
    "    sleep(0.1)\n",
    "\n",
    "er_additional_info_df = pd.concat(er_additional_info_list)\n",
    "er_additional_info_df.reset_index(drop=True, inplace=True)\n",
    "er_additional_info_df[\"hpid\"] = emergency_df_joined[\"hpid\"]"
   ]
  },
  {
   "cell_type": "code",
   "execution_count": 11,
   "metadata": {},
   "outputs": [],
   "source": [
    "emergency_df_joined_2 = pd.merge(emergency_df_joined, er_additional_info_df, on=\"hpid\")\n",
    "_x_include_col = [col for col in emergency_df_joined_2.columns if \"_x\" in col]\n",
    "_y_include_col = [col for col in emergency_df_joined_2.columns if \"_y\" in col]\n",
    "emergency_df_joined_2.drop(_y_include_col, axis=1, inplace=True)\n",
    "emergency_df_joined_2.rename({col: col.replace(\"_x\", \"\") for col in _x_include_col}, axis=1, inplace=True)"
   ]
  },
  {
   "cell_type": "code",
   "execution_count": null,
   "metadata": {},
   "outputs": [],
   "source": [
    "emergency_df_joined_2.columns"
   ]
  },
  {
   "cell_type": "code",
   "execution_count": 13,
   "metadata": {},
   "outputs": [],
   "source": [
    "emergency_df_joined_2.drop(\"dutyAddr\", axis=1, inplace=True)\n",
    "emergency_df_joined_2.rename({\n",
    "    \"기관주소(도로명)\": \"주소\",\n",
    "    \"wgs84Lon\": \"경도\",\n",
    "    \"wgs84Lat\": \"위도\",\n",
    "}, axis=1, inplace=True)\n",
    "\n",
    "def sigungu_name_abbr(name: str) -> str:\n",
    "    if name[:2] in [\"충청\", \"전라\", \"경상\"]:\n",
    "        return name[0] + name[2]\n",
    "    else:\n",
    "        return name[:2]\n",
    "emergency_df_joined_2[\"시도\"] = emergency_df_joined_2[\"시도\"].map(sigungu_name_abbr)"
   ]
  },
  {
   "cell_type": "code",
   "execution_count": 14,
   "metadata": {},
   "outputs": [],
   "source": [
    "emergency_df_joined_2.to_csv(\"../data/processed/emergency_df.csv\", encoding=\"UTF-8\", index=False)"
   ]
  },
  {
   "cell_type": "code",
   "execution_count": null,
   "metadata": {},
   "outputs": [],
   "source": [
    "emergency_df = pd.read_csv(\"../data/processed/emergency_df.csv\")\n",
    "emergency_df"
   ]
  }
 ],
 "metadata": {
  "kernelspec": {
   "display_name": "venv",
   "language": "python",
   "name": "python3"
  },
  "language_info": {
   "codemirror_mode": {
    "name": "ipython",
    "version": 3
   },
   "file_extension": ".py",
   "mimetype": "text/x-python",
   "name": "python",
   "nbconvert_exporter": "python",
   "pygments_lexer": "ipython3",
   "version": "3.10.12"
  }
 },
 "nbformat": 4,
 "nbformat_minor": 2
}
